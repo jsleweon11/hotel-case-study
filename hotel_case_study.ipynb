{
  "nbformat": 4,
  "nbformat_minor": 0,
  "metadata": {
    "colab": {
      "provenance": [],
      "authorship_tag": "ABX9TyPjEs+6oC/vzX5bTxzQONES",
      "include_colab_link": true
    },
    "kernelspec": {
      "name": "python3",
      "display_name": "Python 3"
    },
    "language_info": {
      "name": "python"
    }
  },
  "cells": [
    {
      "cell_type": "markdown",
      "metadata": {
        "id": "view-in-github",
        "colab_type": "text"
      },
      "source": [
        "<a href=\"https://colab.research.google.com/github/jsleweon11/hotel-case-study/blob/main/hotel_case_study.ipynb\" target=\"_parent\"><img src=\"https://colab.research.google.com/assets/colab-badge.svg\" alt=\"Open In Colab\"/></a>"
      ]
    },
    {
      "cell_type": "code",
      "execution_count": 2,
      "metadata": {
        "colab": {
          "base_uri": "https://localhost:8080/"
        },
        "id": "c7uUpb5TcXWq",
        "outputId": "5603cb20-4b07-4732-8030-8e0b2f35dd8c"
      },
      "outputs": [
        {
          "output_type": "stream",
          "name": "stdout",
          "text": [
            "Cloning into 'hotel-case-study'...\n",
            "remote: Enumerating objects: 3, done.\u001b[K\n",
            "remote: Counting objects: 100% (3/3), done.\u001b[K\n",
            "remote: Compressing objects: 100% (2/2), done.\u001b[K\n",
            "remote: Total 3 (delta 0), reused 0 (delta 0), pack-reused 0\u001b[K\n",
            "Receiving objects: 100% (3/3), done.\n",
            "/content/hotel-case-study\n"
          ]
        }
      ],
      "source": [
        "!git clone https://github.com/jsleweon11/hotel-case-study.git\n",
        "%cd hotel-case-study"
      ]
    },
    {
      "cell_type": "code",
      "source": [
        "!pip install numpy-financial\n"
      ],
      "metadata": {
        "colab": {
          "base_uri": "https://localhost:8080/"
        },
        "id": "iF_fvdhPdDAm",
        "outputId": "97e2c9a5-75a9-4bda-987b-9422ef99fe63"
      },
      "execution_count": 5,
      "outputs": [
        {
          "output_type": "stream",
          "name": "stdout",
          "text": [
            "Collecting numpy-financial\n",
            "  Downloading numpy_financial-1.0.0-py3-none-any.whl (14 kB)\n",
            "Requirement already satisfied: numpy>=1.15 in /usr/local/lib/python3.10/dist-packages (from numpy-financial) (1.25.2)\n",
            "Installing collected packages: numpy-financial\n",
            "Successfully installed numpy-financial-1.0.0\n"
          ]
        }
      ]
    },
    {
      "cell_type": "code",
      "source": [
        "import numpy as np\n",
        "import numpy_financial as npf\n",
        "\n",
        "# Parameters\n",
        "purchase_price = 25000000\n",
        "rooms = 150\n",
        "initial_occupancy = 0.55\n",
        "adr = 150\n",
        "expense_growth_rate = 0.03\n",
        "adr_growth_rate = 0.04\n",
        "stabilized_vacancy_rate = 0.10\n",
        "closing_costs = 500000\n",
        "renovation_period_months = 18\n",
        "interest_rate = 0.05\n",
        "amortization_period_years = 25\n",
        "loan_term_years = 7\n",
        "max_loan_to_value = 0.70\n",
        "cap_rate = 0.07\n",
        "closing_fees = 0.015\n",
        "sale_cap_rate = 0.075\n",
        "sale_fees = 500000\n",
        "\n",
        "# Annual income\n",
        "annual_income = adr * rooms * 365 * initial_occupancy\n",
        "stabilized_annual_income = adr * rooms * 365 * (1 - stabilized_vacancy_rate)\n",
        "\n",
        "# Annual operating expenses\n",
        "annual_operating_expenses = 8000000\n",
        "\n",
        "# NOI (Net Operating Income)\n",
        "noi = stabilized_annual_income - annual_operating_expenses\n",
        "\n",
        "# Maximum loan amount\n",
        "max_loan_amount = noi / cap_rate * max_loan_to_value\n",
        "\n",
        "# Calculate monthly mortgage payment\n",
        "monthly_interest_rate = interest_rate / 12\n",
        "num_payments = amortization_period_years * 12\n",
        "monthly_payment = npf.pmt(monthly_interest_rate, num_payments, -max_loan_amount)\n",
        "\n",
        "# Total debt service per year\n",
        "annual_debt_service = monthly_payment * 12\n",
        "\n",
        "# Annual cash flow\n",
        "annual_cash_flow = noi - annual_debt_service\n",
        "\n",
        "# Sale price at exit\n",
        "sale_price = noi / sale_cap_rate\n",
        "\n",
        "# Levered and Unlevered IRR\n",
        "cash_flows = [-purchase_price - closing_costs] + [annual_cash_flow] * loan_term_years + [sale_price - sale_fees]\n",
        "levered_irr = npf.irr(cash_flows)\n",
        "unlevered_cash_flows = [-purchase_price - closing_costs] + [noi] * loan_term_years + [sale_price - sale_fees]\n",
        "unlevered_irr = npf.irr(unlevered_cash_flows)\n",
        "\n",
        "# Equity Multiple\n",
        "levered_equity_multiple = sum(cash_flows) / (-purchase_price - closing_costs)\n",
        "unlevered_equity_multiple = sum(unlevered_cash_flows) / (-purchase_price - closing_costs)\n",
        "\n",
        "# Results\n",
        "print(f\"Levered IRR: {levered_irr * 100:.2f}%\")\n",
        "print(f\"Unlevered IRR: {unlevered_irr * 100:.2f}%\")\n",
        "print(f\"Levered Equity Multiple: {levered_equity_multiple:.2f}\")\n",
        "print(f\"Unlevered Equity Multiple: {unlevered_equity_multiple:.2f}\")\n"
      ],
      "metadata": {
        "colab": {
          "base_uri": "https://localhost:8080/"
        },
        "id": "QsTZKDOgctBw",
        "outputId": "c7cf0b1a-f1e1-4e88-a563-7af36dc83c45"
      },
      "execution_count": 7,
      "outputs": [
        {
          "output_type": "stream",
          "name": "stdout",
          "text": [
            "Levered IRR: nan%\n",
            "Unlevered IRR: nan%\n",
            "Levered Equity Multiple: 1.39\n",
            "Unlevered Equity Multiple: 1.51\n"
          ]
        }
      ]
    }
  ]
}